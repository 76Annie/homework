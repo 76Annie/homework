{
 "cells": [
  {
   "cell_type": "code",
   "execution_count": 1,
   "metadata": {},
   "outputs": [
    {
     "name": "stdout",
     "output_type": "stream",
     "text": [
      "162.5\n",
      "22\n"
     ]
    }
   ],
   "source": [
    "age=22\n",
    "height=162.5\n",
    "print(height)\n",
    "print(age)"
   ]
  },
  {
   "cell_type": "code",
   "execution_count": 1,
   "metadata": {},
   "outputs": [
    {
     "name": "stdout",
     "output_type": "stream",
     "text": [
      "pls enter base of triangle:9\n",
      "pls enter height of triangle:10\n",
      "45.0\n",
      "pls enter length of side a:13\n",
      "pls enter length of side b:15\n",
      "pls enter length of side c:20\n",
      "48\n"
     ]
    }
   ],
   "source": [
    "complexnum=1234.5678#定义复数\n",
    "base=input('pls enter base of triangle:')\n",
    "height=input('pls enter height of triangle:')\n",
    "square=0.5*int(base)*int(height)\n",
    "print(square)\n",
    "a=input('pls enter length of side a:')\n",
    "b=input('pls enter length of side b:')\n",
    "c=input('pls enter length of side c:')\n",
    "n=(int(a)+int(b)>int(c))and(int(a)+int(c)>int(b))and(int(b)+int(c)>int(a))\n",
    "if n==True:\n",
    "    print(int(a)+int(b)+int(c))\n",
    "else :\n",
    "    print(\"invalid data for a triangle\")"
   ]
  },
  {
   "cell_type": "code",
   "execution_count": 3,
   "metadata": {},
   "outputs": [
    {
     "name": "stdout",
     "output_type": "stream",
     "text": [
      "pls enter length of rectangle:7\n",
      "pls enter width of rectangle:8\n",
      "56\n",
      "30\n"
     ]
    }
   ],
   "source": [
    "alpha=input('pls enter length of rectangle:')\n",
    "bravo=input('pls enter width of rectangle:')\n",
    "squareofrec=int(alpha)*int(bravo)\n",
    "perimeter=(int(alpha)+int(bravo))*2\n",
    "print(squareofrec)\n",
    "print(perimeter)"
   ]
  },
  {
   "cell_type": "code",
   "execution_count": 4,
   "metadata": {},
   "outputs": [
    {
     "name": "stdout",
     "output_type": "stream",
     "text": [
      "pls enter your radius6\n",
      "the square of circle is 113.09733552923255 \n",
      "the perimeter of circle is 37.69911184307752 \n"
     ]
    }
   ],
   "source": [
    "import math\n",
    "r=input('pls enter your radius')\n",
    "area=int(r)**2*math.pi\n",
    "perimetercircle=2*math.pi*int(r)\n",
    "print('the square of circle is {abc} '.format(abc=area) )\n",
    "print('the perimeter of circle is {edf} '.format(edf=perimetercircle) )"
   ]
  },
  {
   "cell_type": "code",
   "execution_count": 1,
   "metadata": {},
   "outputs": [
    {
     "name": "stdout",
     "output_type": "stream",
     "text": [
      "-2.0\n",
      "both intercept of x and y axis is 0\n"
     ]
    }
   ],
   "source": [
    "import numpy as np\n",
    "np.random.seed(0)\n",
    "charlie=np.random.rand(2)\n",
    "x1=charlie[0]\n",
    "x2=charlie[1]\n",
    "y1=-2*x1\n",
    "y2=-2*x2\n",
    "slope=(y2-y1)/(x2-x1)\n",
    "print(slope)\n",
    "print(\"both intercept of x and y axis is 0\")"
   ]
  },
  {
   "cell_type": "code",
   "execution_count": 5,
   "metadata": {},
   "outputs": [
    {
     "name": "stdout",
     "output_type": "stream",
     "text": [
      "pls enter the coefficient of function5\n",
      "pls enter the constant of function6\n",
      "the interceptx of the function is -3.0\n",
      "the intercepty of the function is 6\n"
     ]
    }
   ],
   "source": [
    "delta=int(input('pls enter the coefficient of function'))\n",
    "echo=int(input('pls enter the constant of function'))\n",
    "np.random.seed(1)\n",
    "fox=np.random.rand(2)\n",
    "x3=fox[0]\n",
    "x4=fox[1]\n",
    "y3=delta*x2+echo\n",
    "y4=delta*x2+echo\n",
    "if x4-x3 == 0:\n",
    "    print('you cant divide by zero')\n",
    "else:\n",
    "   slope2=(y4-y3)/(x4-x3)\n",
    "   interceptx=-echo/2\n",
    "   intercepty=echo\n",
    "   print('the interceptx of the function is {zxc}'.format(zxc=interceptx))\n",
    "   print('the intercepty of the function is {vbn}'.format(vbn=intercepty))"
   ]
  },
  {
   "cell_type": "code",
   "execution_count": 6,
   "metadata": {},
   "outputs": [
    {
     "name": "stdout",
     "output_type": "stream",
     "text": [
      "pls enter your x16\n",
      "pls enter your x28\n",
      "pls enter your y19\n",
      "pls enter your y27\n",
      "-1.0\n"
     ]
    }
   ],
   "source": [
    "def slope(a,b,c,d):\n",
    "    if b-a==0:\n",
    "        return('invalid data')\n",
    "    else:\n",
    "       slp=(d-c)/(b-a)\n",
    "       return slp\n",
    "x5=int(input('pls enter your x1'))\n",
    "x6=int(input('pls enter your x2'))\n",
    "y5=int(input('pls enter your y1'))\n",
    "y6=int(input('pls enter your y2'))\n",
    "cosequence=slope(x5,x6,y5,y6)\n",
    "print(cosequence)"
   ]
  },
  {
   "cell_type": "code",
   "execution_count": 7,
   "metadata": {},
   "outputs": [
    {
     "name": "stdout",
     "output_type": "stream",
     "text": [
      "pls enter your x1 to calculate euclidean5\n",
      "pls enter your x2 to calculate euclidean9\n",
      "pls enter your y1 to calculate euclidean4\n",
      "pls enter your y2 to calculate euclidean3\n",
      "4.123105625617661\n"
     ]
    }
   ],
   "source": [
    "import math\n",
    "def euclidean(a,b,c,d):\n",
    "    eul=math.sqrt((a-b)**2+(c-d)**2)\n",
    "    return eul\n",
    "x7=int(input('pls enter your x1 to calculate euclidean'))\n",
    "x8=int(input('pls enter your x2 to calculate euclidean'))\n",
    "y7=int(input('pls enter your y1 to calculate euclidean'))\n",
    "y8=int(input('pls enter your y2 to calculate euclidean'))\n",
    "euc=euclidean(x7,x8,y7,y8)\n",
    "print(euc)"
   ]
  },
  {
   "cell_type": "code",
   "execution_count": 8,
   "metadata": {},
   "outputs": [
    {
     "name": "stdout",
     "output_type": "stream",
     "text": [
      "True\n",
      "True\n",
      "True\n",
      "6.0\n"
     ]
    }
   ],
   "source": [
    "p=len('python')\n",
    "data=len('datascience')\n",
    "data>p\n",
    "q='on' in 'python'\n",
    "w='on' in 'cannon'\n",
    "e='jargon' in 'I hope this course is not full of jargon.'\n",
    "print(q)\n",
    "print(w)\n",
    "print(e)\n",
    "r=len('python')\n",
    "t=float(r)\n",
    "y=str(t)\n",
    "print(y)"
   ]
  },
  {
   "cell_type": "code",
   "execution_count": 9,
   "metadata": {},
   "outputs": [
    {
     "name": "stdout",
     "output_type": "stream",
     "text": [
      "pls enter a number to check wether it s even or odd23\n",
      "this is a odd number\n"
     ]
    }
   ],
   "source": [
    "def check(a):\n",
    "    if a%2==0:\n",
    "        return \"this is a even number\"\n",
    "    else:\n",
    "        return\"this is a odd number\"\n",
    "u=int(input('pls enter a number to check wether it s even or odd'))\n",
    "i=check(u)\n",
    "print(i)"
   ]
  },
  {
   "cell_type": "code",
   "execution_count": 10,
   "metadata": {},
   "outputs": [
    {
     "name": "stdout",
     "output_type": "stream",
     "text": [
      "True\n",
      "False\n"
     ]
    }
   ],
   "source": [
    "z=7//3\n",
    "x=int(2.7)\n",
    "j=z==x\n",
    "print(j)\n",
    "k='10'==10\n",
    "print(k)"
   ]
  }
 ],
 "metadata": {
  "kernelspec": {
   "display_name": "Python 3",
   "language": "python",
   "name": "python3"
  },
  "language_info": {
   "codemirror_mode": {
    "name": "ipython",
    "version": 3
   },
   "file_extension": ".py",
   "mimetype": "text/x-python",
   "name": "python",
   "nbconvert_exporter": "python",
   "pygments_lexer": "ipython3",
   "version": "3.7.4"
  }
 },
 "nbformat": 4,
 "nbformat_minor": 2
}
